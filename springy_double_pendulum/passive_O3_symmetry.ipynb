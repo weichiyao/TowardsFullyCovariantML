{
  "cells": [
    {
      "cell_type": "markdown",
      "metadata": {
        "colab_type": "text",
        "id": "view-in-github"
      },
      "source": [
        "<a href=\"https://colab.research.google.com/github/davidwhogg/LearnDimensionalConstant/blob/main/notebooks/learn_a_dimensional_constant.ipynb\" target=\"_parent\"><img src=\"https://colab.research.google.com/assets/colab-badge.svg\" alt=\"Open In Colab\"/></a>"
      ]
    },
    {
      "cell_type": "markdown",
      "metadata": {
        "id": "cIox_RvIyFis"
      },
      "source": [
        "# Passive O(3) symmetry example on springy double pendulum"
      ]
    },
    {
      "cell_type": "markdown",
      "metadata": {},
      "source": [
        "## Setup"
      ]
    },
    {
      "cell_type": "markdown",
      "metadata": {},
      "source": [
        "### Set up the conda environment "
      ]
    },
    {
      "cell_type": "code",
      "execution_count": null,
      "metadata": {
        "id": "z-tMsbwbyAeo",
        "vscode": {
          "languageId": "shellscript"
        }
      },
      "outputs": [],
      "source": [
        "conda activate ScalarEMLP \n",
        "conda config --add channels pytorch --env\n",
        "conda config --add channels nvidia --env\n",
        "conda install pytorch pytorch-cuda=12.1 -y\n",
        "conda install -c conda-forge pytorch-lightning -y\n",
        "conda install -c conda-forge scikit-learn -y\n",
        "pip install --upgrade \"jax[cuda12_pip]\" -f https://storage.googleapis.com/jax-releases/jax_cuda_releases.html"
      ]
    },
    {
      "cell_type": "markdown",
      "metadata": {},
      "source": [
        "## Equivariant HNNs"
      ]
    },
    {
      "cell_type": "markdown",
      "metadata": {},
      "source": [
        "### learn-g"
      ]
    },
    {
      "cell_type": "markdown",
      "metadata": {},
      "source": [
        "Main package dependence"
      ]
    },
    {
      "cell_type": "code",
      "execution_count": null,
      "metadata": {
        "id": "QzTNNTPW2gRV",
        "vscode": {
          "languageId": "shellscript"
        }
      },
      "outputs": [],
      "source": [
        "git clone -b learn-g https://github.com/weichiyao/ScalarEMLP.git\n",
        "cd ./ScalarEMLP\n",
        "pip install -e ."
      ]
    },
    {
      "cell_type": "markdown",
      "metadata": {},
      "source": [
        "Train and test the model"
      ]
    },
    {
      "cell_type": "code",
      "execution_count": null,
      "metadata": {
        "id": "Sszl9IOZJpfS",
        "vscode": {
          "languageId": "shellscript"
        }
      },
      "outputs": [],
      "source": [
        "python ScalarEMLP/experiments/hnn_scalars.py --num_epochs 2000 --trial 10 --log_dir './'"
      ]
    },
    {
      "cell_type": "markdown",
      "metadata": {},
      "source": [
        "### Equivariant HNNs - know-g"
      ]
    },
    {
      "cell_type": "markdown",
      "metadata": {},
      "source": [
        "Main package dependence"
      ]
    },
    {
      "cell_type": "code",
      "execution_count": null,
      "metadata": {
        "vscode": {
          "languageId": "shellscript"
        }
      },
      "outputs": [],
      "source": [
        "git clone -b master https://github.com/weichiyao/ScalarEMLP.git\n",
        "cd ./ScalarEMLP\n",
        "pip install -e ."
      ]
    },
    {
      "cell_type": "markdown",
      "metadata": {},
      "source": [
        "Train and test the model"
      ]
    },
    {
      "cell_type": "code",
      "execution_count": null,
      "metadata": {
        "vscode": {
          "languageId": "shellscript"
        }
      },
      "outputs": [],
      "source": [
        "python ScalarEMLP/experiments/hnn_scalars.py --num_epochs 2000 --trial 10 --log_dir '/home/'"
      ]
    },
    {
      "cell_type": "markdown",
      "metadata": {},
      "source": [
        "### Equivariant HNNs - no-g"
      ]
    },
    {
      "cell_type": "markdown",
      "metadata": {},
      "source": [
        "Main package dependence"
      ]
    },
    {
      "cell_type": "code",
      "execution_count": null,
      "metadata": {
        "vscode": {
          "languageId": "shellscript"
        }
      },
      "outputs": [],
      "source": [
        "git clone -b no-g https://github.com/weichiyao/ScalarEMLP.git\n",
        "cd ./ScalarEMLP\n",
        "pip install -e ."
      ]
    },
    {
      "cell_type": "markdown",
      "metadata": {},
      "source": [
        "Train and test the model"
      ]
    },
    {
      "cell_type": "code",
      "execution_count": null,
      "metadata": {
        "vscode": {
          "languageId": "shellscript"
        }
      },
      "outputs": [],
      "source": [
        "python ScalarEMLP/experiments/hnn_scalars.py --num_epochs 2000 --trial 10 --log_dir '/home/'"
      ]
    }
  ],
  "metadata": {
    "colab": {
      "include_colab_link": true,
      "provenance": []
    },
    "kernelspec": {
      "display_name": "Python 3",
      "name": "python3"
    },
    "language_info": {
      "name": "python"
    }
  },
  "nbformat": 4,
  "nbformat_minor": 0
}
