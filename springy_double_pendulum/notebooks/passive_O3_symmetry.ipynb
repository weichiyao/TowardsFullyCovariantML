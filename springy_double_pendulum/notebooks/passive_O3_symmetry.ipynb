{
  "cells": [
    {
      "cell_type": "markdown",
      "metadata": {
        "colab_type": "text",
        "id": "view-in-github"
      },
      "source": [
        "<a href=\"https://colab.research.google.com/github/davidwhogg/LearnDimensionalConstant/blob/main/notebooks/learn_a_dimensional_constant.ipynb\" target=\"_parent\"><img src=\"https://colab.research.google.com/assets/colab-badge.svg\" alt=\"Open In Colab\"/></a>"
      ]
    },
    {
      "cell_type": "markdown",
      "metadata": {
        "id": "cIox_RvIyFis"
      },
      "source": [
        "# Passive O(3) symmetry example on springy double pendulum"
      ]
    },
    {
      "cell_type": "markdown",
      "metadata": {},
      "source": [
        "## Setup"
      ]
    },
    {
      "cell_type": "code",
      "execution_count": null,
      "metadata": {
        "id": "z-tMsbwbyAeo",
        "vscode": {
          "languageId": "shellscript"
        }
      },
      "outputs": [],
      "source": [
        "git clone https://github.com/mfinzi/olive-oil-ml.git\n",
        "cd ./olive-oil-ml\n",
        "pip install -e .\n",
        "cd ..\n",
        "git clone https://github.com/weichiyao/TowardsFullyCovariantML.git\n",
        "cd ./TowardsFullyCovariantML"
      ]
    },
    {
      "cell_type": "markdown",
      "metadata": {},
      "source": [
        "## Experiments"
      ]
    },
    {
      "cell_type": "markdown",
      "metadata": {},
      "source": [
        "### Equivariant HNNs with $\\mathbf{g}$ learned (learn-g)"
      ]
    },
    {
      "cell_type": "code",
      "execution_count": null,
      "metadata": {
        "id": "Sszl9IOZJpfS",
        "vscode": {
          "languageId": "shellscript"
        }
      },
      "outputs": [],
      "source": [
        "python ./experiments/hnn_scalars.py --trial 10 --g_choice 'learn' --log_dir 'data-out'"
      ]
    },
    {
      "cell_type": "markdown",
      "metadata": {},
      "source": [
        "### Equivariant HNNs with $\\mathbf{g}$ known (know-g)"
      ]
    },
    {
      "cell_type": "code",
      "execution_count": null,
      "metadata": {
        "vscode": {
          "languageId": "shellscript"
        }
      },
      "outputs": [],
      "source": [
        "python ./experiments/hnn_scalars.py --trial 10 --g_choice 'default' --log_dir 'data-out'"
      ]
    },
    {
      "cell_type": "markdown",
      "metadata": {},
      "source": [
        "### Equivariant HNNs with $\\mathbf{g}$ ignored (no-g)"
      ]
    },
    {
      "cell_type": "code",
      "execution_count": null,
      "metadata": {
        "vscode": {
          "languageId": "shellscript"
        }
      },
      "outputs": [],
      "source": [
        "python ./experiments/hnn_scalars.py --trial 10 --g_choice 'ignore' --log_dir 'data-out'"
      ]
    }
  ],
  "metadata": {
    "colab": {
      "include_colab_link": true,
      "provenance": []
    },
    "kernelspec": {
      "display_name": "Python 3",
      "name": "python3"
    },
    "language_info": {
      "name": "python"
    }
  },
  "nbformat": 4,
  "nbformat_minor": 0
}
